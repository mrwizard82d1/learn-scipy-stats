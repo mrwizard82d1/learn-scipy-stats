{
 "cells": [
  {
   "cell_type": "markdown",
   "source": [
    "# Tutorial from the User Guide for scipy.stats"
   ],
   "metadata": {
    "collapsed": false
   },
   "execution_count": 1
  },
  {
   "cell_type": "code",
   "execution_count": null,
   "outputs": [],
   "source": [
    "# General imports\n",
    "import numpy as np\n",
    "import matplotlib.pyplot as plt"
   ],
   "metadata": {
    "collapsed": false
   }
  },
  {
   "cell_type": "code",
   "execution_count": null,
   "outputs": [],
   "source": [
    "# Import scipy\n",
    "from scipy import stats"
   ],
   "metadata": {
    "collapsed": false
   }
  },
  {
   "cell_type": "code",
   "execution_count": null,
   "outputs": [],
   "source": [
    "# Basic help information\n",
    "print(stats.norm.__doc__)"
   ],
   "metadata": {
    "collapsed": false
   }
  },
  {
   "cell_type": "code",
   "execution_count": null,
   "outputs": [],
   "source": [
    "print(f'bounds of distribution: lower={stats.norm.support()[0]}, upper={stats.norm.support()[1]}')"
   ],
   "metadata": {
    "collapsed": false
   }
  },
  {
   "cell_type": "code",
   "execution_count": null,
   "outputs": [],
   "source": [
    "# List all the methods and properties of the distribution\n",
    "dir(stats.norm)"
   ],
   "metadata": {
    "collapsed": false
   }
  },
  {
   "cell_type": "code",
   "execution_count": null,
   "outputs": [],
   "source": [
    "# List the \"real\" main methods by listing the methods of a frozen distribution\n",
    "rv = stats.norm()\n",
    "dir(rv)"
   ],
   "metadata": {
    "collapsed": false
   }
  },
  {
   "cell_type": "code",
   "execution_count": null,
   "outputs": [],
   "source": [
    "# We can obtain the list of available distributions through introspection.\n",
    "dist_continu = [d for d in dir(stats) if isinstance(getattr(stats, d), stats.rv_continuous)]\n",
    "dist_continu"
   ],
   "metadata": {
    "collapsed": false
   }
  },
  {
   "cell_type": "code",
   "execution_count": null,
   "outputs": [],
   "source": [
    "dist_discrete = [d for d in dir(stats) if isinstance(getattr(stats, d), stats.rv_discrete)]\n",
    "dist_discrete"
   ],
   "metadata": {
    "collapsed": false
   }
  },
  {
   "cell_type": "markdown",
   "source": [
    "## Common methods"
   ],
   "metadata": {
    "collapsed": false
   }
  },
  {
   "cell_type": "markdown",
   "source": [
    "The main public methods for continuous random variables (RVs) are:\n",
    "\n",
    "- rvs: Random Variables\n",
    "- pdf: Probability Density Function\n",
    "- cdf: Cumulative Distribution Function\n",
    "- sf: Survival Function (1 - CDF)\n",
    "- ppf: Percent Point Function (Inverse of CDF)\n",
    "- isf: Inverse Survival Function (Inverse of SF)\n",
    "- stats: Return mean, variance, (Fisher's) skew, or (Fisher's) kurtosis\n",
    "- moment: non-central moments of the distribution"
   ],
   "metadata": {
    "collapsed": false
   }
  },
  {
   "cell_type": "code",
   "execution_count": null,
   "outputs": [],
   "source": [
    "# Let's take a normal random variable as an example\n",
    "stats.norm.cdf(0)"
   ],
   "metadata": {
    "collapsed": false
   }
  },
  {
   "cell_type": "code",
   "execution_count": null,
   "outputs": [],
   "source": [
    "# To compute the cdf at a number of points, one can pass a list or a `numpy` array\n",
    "stats.norm.cdf([-1., 0, 1])"
   ],
   "metadata": {
    "collapsed": false
   }
  },
  {
   "cell_type": "code",
   "execution_count": null,
   "outputs": [],
   "source": [
    "stats.norm.cdf(np.array([-1, 0, 1]))"
   ],
   "metadata": {
    "collapsed": false
   }
  },
  {
   "cell_type": "markdown",
   "source": [
    "Thus, the basic methods, such as `pdf`, `cdf`, and so on, are vectorized."
   ],
   "metadata": {
    "collapsed": false
   }
  },
  {
   "cell_type": "code",
   "execution_count": null,
   "outputs": [],
   "source": [
    "# Other generally useful methods are also supported:\n",
    "stats.norm.mean(), stats.norm.std(), stats.norm.var()"
   ],
   "metadata": {
    "collapsed": false
   }
  },
  {
   "cell_type": "code",
   "execution_count": null,
   "outputs": [],
   "source": [
    "stats.norm.stats(moments='mv')  # [m]ean and [v]ariance"
   ],
   "metadata": {
    "collapsed": false
   }
  },
  {
   "cell_type": "code",
   "execution_count": null,
   "outputs": [],
   "source": [
    "# To find the median of a distribution, we can use the percent point\n",
    "# function, `ppf`, which is the inverse of the `cdf`\n",
    "median = stats.norm.ppf(0.5)\n",
    "median"
   ],
   "metadata": {
    "collapsed": false
   }
  },
  {
   "cell_type": "code",
   "execution_count": null,
   "outputs": [],
   "source": [
    "# To generate a sequence of random variates, use the `size` keyword argument\n",
    "# to `rvs`\n",
    "stats.norm.rvs(size=3)"
   ],
   "metadata": {
    "collapsed": false
   }
  },
  {
   "cell_type": "code",
   "execution_count": null,
   "outputs": [],
   "source": [
    "# WARNING: Don't think that `stats.norm.rvs(5)` generates 5 variates:\n",
    "stats.norm.rvs(5)"
   ],
   "metadata": {
    "collapsed": false
   }
  },
  {
   "cell_type": "markdown",
   "source": [
    "In this call, 5 is assigned to the first possible keyword value, `loc` which is the first of a pair of keyword arguments taken by **all** distributions."
   ],
   "metadata": {
    "collapsed": false
   }
  },
  {
   "cell_type": "markdown",
   "source": [
    "## Random number generation (skipped - for now)"
   ],
   "metadata": {
    "collapsed": false
   }
  },
  {
   "cell_type": "markdown",
   "source": [
    "## Shifting and scaling"
   ],
   "metadata": {
    "collapsed": false
   }
  },
  {
   "cell_type": "markdown",
   "source": [
    "All continuous distributions take `loc` and `scale` as keyword parameters to adjust the location and scale of the distribution. For example, for the standard normal deviation, the location and scale map to mean and standard deviation, respectively."
   ],
   "metadata": {
    "collapsed": false
   }
  },
  {
   "cell_type": "code",
   "execution_count": null,
   "outputs": [],
   "source": [
    "stats.norm.stats(loc=3, scale=4, moments='mv')"
   ],
   "metadata": {
    "collapsed": false
   }
  },
  {
   "cell_type": "markdown",
   "source": [
    "In many cases, the standardized distribution for a random variable, $X$, is obtained through the transformation, $(X - loc) / scale$. The default values for these keyword arguments are `loc=0` and `scale=1`."
   ],
   "metadata": {
    "collapsed": false
   }
  },
  {
   "cell_type": "markdown",
   "source": [
    "Smart use of `loc` and `scale` can help modify the standard distributions in many ways. To illustrate scaling further, the CDF of an exponentially distributed random variable with mean $\\frac{1}{\\lambda}$ is given by\n",
    "\n",
    "$$\n",
    "    F(x) = 1 - \\exp(-\\lambda x)\n",
    "$$\n",
    "\n",
    "By applying the scaling rule above, it can be seen that taking `scale = 1./lambda` we get the proper scale."
   ],
   "metadata": {
    "collapsed": false
   }
  },
  {
   "cell_type": "code",
   "execution_count": null,
   "outputs": [],
   "source": [
    "stats.expon.mean(scale=3.)"
   ],
   "metadata": {
    "collapsed": false
   }
  },
  {
   "cell_type": "markdown",
   "source": [
    "The uniform distribution is also interesting:"
   ],
   "metadata": {
    "collapsed": false
   }
  },
  {
   "cell_type": "code",
   "execution_count": null,
   "outputs": [],
   "source": [
    "# The lower bound is `loc` and the length is `scale`; that is,\n",
    "# the upper bound is `loc + scale`.\n",
    "stats.uniform.cdf([0, 1, 2, 3, 4, 5], loc=1, scale=4)"
   ],
   "metadata": {
    "collapsed": false
   }
  },
  {
   "cell_type": "markdown",
   "source": [
    "We recommend that you set `loc` and `scale` parameters **explicitly**, by passing the values as keywords rather than position. Repetition can be minimized when calling more than one method of a distribution by using the technique of \"Freezing a Distribution,\" as explained below."
   ],
   "metadata": {
    "collapsed": false
   }
  },
  {
   "cell_type": "markdown",
   "source": [
    "## Shape parameters (skipped for now)"
   ],
   "metadata": {
    "collapsed": false
   }
  },
  {
   "cell_type": "markdown",
   "source": [
    "## Freezing a distribution"
   ],
   "metadata": {
    "collapsed": false
   }
  },
  {
   "cell_type": "markdown",
   "source": [
    "Passing the `loc` and `scale` parameters time and again can become quite bothersome. The concept of _freezing_ a random variable is used to solve such problems."
   ],
   "metadata": {
    "collapsed": false
   }
  },
  {
   "cell_type": "code",
   "execution_count": null,
   "outputs": [],
   "source": [
    "rv = stats.gamma(a=1, scale=2)"
   ],
   "metadata": {
    "collapsed": false
   }
  },
  {
   "cell_type": "markdown",
   "source": [
    "Now, when we use `rv`, we no longer have to include the scale or the shape parameters.\n",
    "\n",
    "Consequently, distributions can be used in one of two ways:\n",
    "\n",
    "- Passing all the distribution parameters to each method call\n",
    "- Freezing the parameters for the instance of the distribution"
   ],
   "metadata": {
    "collapsed": false
   }
  },
  {
   "cell_type": "code",
   "execution_count": null,
   "outputs": [],
   "source": [
    "# The mean and standard deviation of the frozen distribution\n",
    "rv.mean(), rv.std()"
   ],
   "metadata": {
    "collapsed": false
   }
  },
  {
   "cell_type": "code",
   "execution_count": null,
   "outputs": [],
   "source": [],
   "metadata": {
    "collapsed": false
   }
  }
 ],
 "metadata": {
  "kernelspec": {
   "display_name": "Python 3",
   "language": "python",
   "name": "python3"
  },
  "language_info": {
   "codemirror_mode": {
    "name": "ipython",
    "version": 2
   },
   "file_extension": ".py",
   "mimetype": "text/x-python",
   "name": "python",
   "nbconvert_exporter": "python",
   "pygments_lexer": "ipython2",
   "version": "2.7.6"
  }
 },
 "nbformat": 4,
 "nbformat_minor": 0
}
